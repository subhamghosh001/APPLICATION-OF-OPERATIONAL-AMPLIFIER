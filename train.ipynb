{
  "nbformat": 4,
  "nbformat_minor": 0,
  "metadata": {
    "colab": {
      "provenance": [],
      "authorship_tag": "ABX9TyM8bF+hOzHjg2bJzLNSf8mr",
      "include_colab_link": true
    },
    "kernelspec": {
      "name": "python3",
      "display_name": "Python 3"
    },
    "language_info": {
      "name": "python"
    }
  },
  "cells": [
    {
      "cell_type": "markdown",
      "metadata": {
        "id": "view-in-github",
        "colab_type": "text"
      },
      "source": [
        "<a href=\"https://colab.research.google.com/github/subhamghosh001/APPLICATION-OF-OPERATIONAL-AMPLIFIER/blob/main/train.ipynb\" target=\"_parent\"><img src=\"https://colab.research.google.com/assets/colab-badge.svg\" alt=\"Open In Colab\"/></a>"
      ]
    },
    {
      "cell_type": "code",
      "execution_count": 1,
      "metadata": {
        "colab": {
          "base_uri": "https://localhost:8080/"
        },
        "id": "vdXeFaC8PLcU",
        "outputId": "3d4e91c8-916d-4966-fd4c-1700bea942a7"
      },
      "outputs": [
        {
          "output_type": "stream",
          "name": "stdout",
          "text": [
            "O | O | O | O | O | O | O\n",
            "O | O | O | O | O | O | O\n",
            "O | O | O | O | O | O | O\n",
            "O | O | O | O | O | O | O\n",
            "O | O | O | O | O | O | O\n",
            "O | O | O | O | O | O | O\n",
            "O | O | O | O | O | O | O\n",
            "O | O | O | O | O | O | O\n",
            "O | O | O | O | O | O | O\n",
            "O | O | O | O | O | O | O\n",
            "O | O | O\n",
            "Booking seats: [1, 2, 3, 4]\n",
            "X | X | X | X | O | O | O\n",
            "O | O | O | O | O | O | O\n",
            "O | O | O | O | O | O | O\n",
            "O | O | O | O | O | O | O\n",
            "O | O | O | O | O | O | O\n",
            "O | O | O | O | O | O | O\n",
            "O | O | O | O | O | O | O\n",
            "O | O | O | O | O | O | O\n",
            "O | O | O | O | O | O | O\n",
            "O | O | O | O | O | O | O\n",
            "O | O | O\n"
          ]
        }
      ],
      "source": [
        "class TrainCoach:\n",
        "    def __init__(self):\n",
        "        # Initialize a coach with 80 seats, where the last row has only 3 seats\n",
        "        self.seats = [0] * 11 + [0] * 10 * 7  # 11 rows (1 last row with 3 seats, 10 full rows of 7 seats)\n",
        "        self.seat_map = self.create_seat_map()\n",
        "\n",
        "    def create_seat_map(self):\n",
        "        # Create a visual representation of the seats\n",
        "        seat_map = []\n",
        "        for row in range(11):\n",
        "            if row == 10:\n",
        "                seat_map.append([f\"{i + 1 + row * 7}\" for i in range(3)])  # Last row with 3 seats\n",
        "            else:\n",
        "                seat_map.append([f\"{i + 1 + row * 7}\" for i in range(7)])  # Normal rows with 7 seats\n",
        "        return seat_map\n",
        "\n",
        "    def display_seats(self):\n",
        "        # Display the current seat status\n",
        "        for row in range(11):\n",
        "            status = ['X' if self.seats[row * 7 + i] == 1 else 'O' for i in range(3 if row == 10 else 7)]\n",
        "            print(\" | \".join(status))\n",
        "\n",
        "    def book_seats(self, num_seats):\n",
        "        booked = []\n",
        "\n",
        "        for row in range(10):  # Check full rows first\n",
        "            if self.seats[row * 7: row * 7 + 7].count(0) >= num_seats:\n",
        "                for i in range(7):\n",
        "                    if self.seats[row * 7 + i] == 0 and len(booked) < num_seats:\n",
        "                        self.seats[row * 7 + i] = 1\n",
        "                        booked.append(row * 7 + i + 1)  # +1 for 1-based seat number\n",
        "                break\n",
        "\n",
        "        if len(booked) < num_seats:  # If not enough seats in full rows, check the last row\n",
        "            row = 10\n",
        "            for i in range(3):\n",
        "                if self.seats[row * 7 + i] == 0 and len(booked) < num_seats:\n",
        "                    self.seats[row * 7 + i] = 1\n",
        "                    booked.append(row * 7 + i + 1)\n",
        "\n",
        "        return booked if len(booked) == num_seats else None\n",
        "\n",
        "# Example usage:\n",
        "coach = TrainCoach()\n",
        "coach.display_seats()\n",
        "print(\"Booking seats:\", coach.book_seats(4))\n",
        "coach.display_seats()\n"
      ]
    },
    {
      "cell_type": "code",
      "source": [
        "|"
      ],
      "metadata": {
        "id": "Vba0ICclQGWE"
      },
      "execution_count": null,
      "outputs": []
    }
  ]
}