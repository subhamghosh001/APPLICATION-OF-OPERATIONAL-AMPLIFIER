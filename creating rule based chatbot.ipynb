{
  "nbformat": 4,
  "nbformat_minor": 0,
  "metadata": {
    "colab": {
      "provenance": [],
      "authorship_tag": "ABX9TyPO6iFiLL3VeYxUww7rNkrF",
      "include_colab_link": true
    },
    "kernelspec": {
      "name": "python3",
      "display_name": "Python 3"
    },
    "language_info": {
      "name": "python"
    }
  },
  "cells": [
    {
      "cell_type": "markdown",
      "metadata": {
        "id": "view-in-github",
        "colab_type": "text"
      },
      "source": [
        "<a href=\"https://colab.research.google.com/github/subhamghosh001/APPLICATION-OF-OPERATIONAL-AMPLIFIER/blob/main/creating%20rule%20based%20chatbot.ipynb\" target=\"_parent\"><img src=\"https://colab.research.google.com/assets/colab-badge.svg\" alt=\"Open In Colab\"/></a>"
      ]
    },
    {
      "cell_type": "code",
      "execution_count": 9,
      "metadata": {
        "id": "BDeBLtegnWlC"
      },
      "outputs": [],
      "source": [
        "import re\n",
        "import random"
      ]
    },
    {
      "cell_type": "code",
      "source": [
        "class rulebot:\n",
        "  ###potential negative response\n",
        "  negative_response=(\"no\",\"nope\",\"nah\",\"naw\",\"not a chance\",\"sorry\")\n",
        "  ###exit conversation keywords\n",
        "  exit_commands=(\"quit\",\"pause\",\"exit\",\"goodbye\",\"bye\",\"later\")\n",
        "  ###random starter question\n",
        "  random_questions=(\n",
        "      \"why are you here?\",\n",
        "      \"are there many humans like you?\",\n",
        "      \"what do you consume for sustenance?\",\n",
        "      \"is there intelligent life on this planet?\",\n",
        "      \"does earth have a leader?\",\n",
        "      \"what planets have you visited?\"\n",
        "  )\n",
        "  def __init__(self) :\n",
        "    self.alienbabble={'describe_planet_intent':r'.*\\s*your planet.*',\n",
        "                       'answer_why_intent':r'why\\sare.*',\n",
        "                       'about_intellipat':r'.*\\s*intellipaat'\n",
        "                       }\n",
        "  def greet(self):\n",
        "      self.name=input(\"what is your name?\\n\")\n",
        "      will_help=input(\n",
        "          f\"hi {self.name}, i am rule bot. will you help me learn about your planet?\\n\")\n",
        "      if will_help in self.negative_response:\n",
        "        print(\"ok, have a nice earth day!\")\n",
        "        return\n",
        "      self.chat()\n",
        "  def make_exit(self,reply):\n",
        "       for  command in self.exit_commands:\n",
        "        if reply==command:\n",
        "          print(\"okay,have a nice earth day!\")\n",
        "          return True\n",
        "  def chat(self):\n",
        "    reply =input(random.choice(self.random_questions)).lower()\n",
        "    while not self.make_exit(reply):\n",
        "      reply=input(self.match_reply(reply))\n",
        "\n",
        "  def match_reply(self,reply) :\n",
        "       for key,value in self.alienbabble.items():\n",
        "        intent=key\n",
        "        regex_pattern =value\n",
        "        found_match=re.match(regex_pattern,reply)\n",
        "        if found_match and intent=='describe_planet_intent':\n",
        "          return self.describe_planet_intent()\n",
        "        elif found_match and intent=='answer_why_intent':\n",
        "            return self.answer_why_intent()\n",
        "        elif found_match and intent=='about_intellipat':\n",
        "          return self.about_intellipat()\n",
        "        if not found_match:\n",
        "            return self.no_match_intent()\n",
        "  def describe_planet_intent(self):\n",
        "    responses=(\"my planet is a utopia of diverse organisms and species.\\n\",\n",
        "               \"i an from opidipus, the capital of the wayward galaxies.\\n\")\n",
        "    return random.choice(responses)\n",
        "  def  answer_why_intent(self):\n",
        "    responses=(\"i come in peace\\n\",\"i am here to collect data on your planet and its inhabitants\\n\",\n",
        "               \"i heard the coffee is good\\n\")\n",
        "    return random.choice(responses)\n",
        "  def about_intellipat(self):\n",
        "    responses=(\"intellipaat is world's largest professional educational company\\n\",\n",
        "               \"intellipaat will make you learn concepts in the way never learn\\n\",\n",
        "               \"intellipaat is where your career and skill grows\\n\")\n",
        "    return random.choice(responses)\n",
        "  def no_match_intent(self):\n",
        "    responses=(\"please tell me more.\\n\",\"tell me more!\\n\",\"why do you say that?\\n\",\n",
        "               \"I see. can you elaborate?\\n\",\"how do you think I feel when you say that?\\n\")\n",
        "    return random.choice(responses)\n",
        "\n",
        "AlienBot=rulebot()\n",
        "AlienBot.greet()\n",
        "\n",
        "\n",
        "\n"
      ],
      "metadata": {
        "colab": {
          "base_uri": "https://localhost:8080/"
        },
        "id": "RHRz08a9niAr",
        "outputId": "65d06544-f82d-423a-87de-067badb05d84"
      },
      "execution_count": 11,
      "outputs": [
        {
          "output_type": "stream",
          "name": "stdout",
          "text": [
            "what is your name?\n",
            "ss\n",
            "hi ss, i am rule bot. will you help me learn about your planet?\n",
            "yes\n",
            "is there intelligent life on this planet?yes i think so\n",
            "why do you say that?\n",
            "i think i have that data\n",
            "please tell me more.\n",
            "nah\n",
            "how do you think I feel when you say that?\n",
            "shut up\n",
            "how do you think I feel when you say that?\n",
            "no\n",
            "why do you say that?\n",
            "no\n",
            "please tell me more.\n",
            "no\n",
            "why do you say that?\n",
            "exit\n",
            "okay,have a nice earth day!\n"
          ]
        }
      ]
    },
    {
      "cell_type": "code",
      "source": [],
      "metadata": {
        "id": "KjhBbCEUniKm"
      },
      "execution_count": null,
      "outputs": []
    },
    {
      "cell_type": "code",
      "source": [],
      "metadata": {
        "id": "ejWqjQ3dniN8"
      },
      "execution_count": null,
      "outputs": []
    },
    {
      "cell_type": "code",
      "source": [],
      "metadata": {
        "id": "dC8oaoZRniRX"
      },
      "execution_count": null,
      "outputs": []
    }
  ]
}